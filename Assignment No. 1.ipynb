{
 "cells": [
  {
   "cell_type": "markdown",
   "id": "0ff41255",
   "metadata": {},
   "source": [
    "# Assignment 1"
   ]
  },
  {
   "cell_type": "markdown",
   "id": "cad83e1d",
   "metadata": {},
   "source": [
    "## Task 1: Variables and Data Types"
   ]
  },
  {
   "cell_type": "markdown",
   "id": "b02bde90",
   "metadata": {},
   "source": [
    "a) Create three variables: one for storing your age (integer), one for your name (string), and one to check if you are a student (Boolean). Print the variables."
   ]
  },
  {
   "cell_type": "code",
   "execution_count": 55,
   "id": "166029ce",
   "metadata": {},
   "outputs": [
    {
     "name": "stdout",
     "output_type": "stream",
     "text": [
      "25 John False\n"
     ]
    }
   ],
   "source": [
    "age = 25\n",
    "name = \"John\"\n",
    "if_student = False\n",
    "\n",
    "print(age, name, if_student)"
   ]
  },
  {
   "cell_type": "markdown",
   "id": "7a39d998",
   "metadata": {},
   "source": [
    "b) Perform the following operations and print the results:\n",
    "   - Add 25 to your age variable.\n",
    "   - Concatenate your name with the string \"Smith.\"\n",
    "   - Negate the Boolean variable (if True, make it False, and vice versa).\n"
   ]
  },
  {
   "cell_type": "code",
   "execution_count": 56,
   "id": "405d24ac",
   "metadata": {},
   "outputs": [
    {
     "name": "stdout",
     "output_type": "stream",
     "text": [
      "25 John Smith True\n"
     ]
    }
   ],
   "source": [
    "age =+ 25\n",
    "name = name + \" \" + \"Smith\"\n",
    "if_student = not(if_student )\n",
    "\n",
    "print(age, name, if_student)"
   ]
  },
  {
   "cell_type": "markdown",
   "id": "f29578a7",
   "metadata": {},
   "source": [
    "## Task 2: Expressions and Operators"
   ]
  },
  {
   "cell_type": "markdown",
   "id": "792e3b2a",
   "metadata": {},
   "source": [
    "a) A rectangle has a width of 5.5 units and a height of 3.25 units. Store width and height in variables. Create a new variable called area and write an expression to calculate the area. Print the area in the output. "
   ]
  },
  {
   "cell_type": "code",
   "execution_count": 57,
   "id": "6b9a823a",
   "metadata": {},
   "outputs": [
    {
     "name": "stdout",
     "output_type": "stream",
     "text": [
      "Area of a rectangle: 17.875 square units\n"
     ]
    }
   ],
   "source": [
    "width = 5.5\n",
    "height = 3.25\n",
    "area = width * height\n",
    "print(f\"Area of a rectangle: {area} square units\")"
   ]
  },
  {
   "cell_type": "markdown",
   "id": "88db9e4b",
   "metadata": {},
   "source": [
    "b) Create a temperature variable in Celsius. Convert it to Fahrenheit using the formula: F = (C * 9/5) + 32. Store this temperature in a variable called Fahrenheit and print this variable."
   ]
  },
  {
   "cell_type": "code",
   "execution_count": 58,
   "id": "532aba26",
   "metadata": {},
   "outputs": [
    {
     "name": "stdout",
     "output_type": "stream",
     "text": [
      "Temperature in Fahrenheit: 89.6\n"
     ]
    }
   ],
   "source": [
    "temp_Celsius = 32\n",
    "\n",
    "temp_Fahrenheit = (temp_Celsius * (9/5))+32\n",
    "\n",
    "print(f\"Temperature in Fahrenheit: {temp_Fahrenheit}\")"
   ]
  },
  {
   "cell_type": "markdown",
   "id": "058b53f1",
   "metadata": {},
   "source": [
    "a) Create a variable called radius and give it a value of 5. Calculate the area of a circle with this radius and store it in a variable called area. Print area at the end of your code. (Use the formula: area = π * radius^2, where π (pi) is approximately 3.14159). "
   ]
  },
  {
   "cell_type": "code",
   "execution_count": 59,
   "id": "d8aeaefa",
   "metadata": {},
   "outputs": [
    {
     "name": "stdout",
     "output_type": "stream",
     "text": [
      "Area of a Circle: 78.53975\n"
     ]
    }
   ],
   "source": [
    "radius = 5\n",
    "pi = 3.14159\n",
    "\n",
    "area = pi * radius**2\n",
    "\n",
    "print(f\"Area of a Circle: {area}\")"
   ]
  },
  {
   "cell_type": "markdown",
   "id": "bead278e",
   "metadata": {},
   "source": [
    "##Task 3: Introduction to Data Structures"
   ]
  },
  {
   "cell_type": "markdown",
   "id": "e1dac539",
   "metadata": {},
   "source": [
    "a) Create a list called \"fruits\" containing the following fruits: \"apple,\" \"banana,\" \"orange,\" \"grape,\" and \"kiwi.\" Print the list."
   ]
  },
  {
   "cell_type": "code",
   "execution_count": 60,
   "id": "3fc0c39d",
   "metadata": {},
   "outputs": [
    {
     "name": "stdout",
     "output_type": "stream",
     "text": [
      "['apple', 'banana', 'orange', 'grape', 'kiwi']\n"
     ]
    }
   ],
   "source": [
    "fruits = [\"apple\", \"banana\" ,\"orange\" ,\"grape\" , \"kiwi\"]\n",
    "print(fruits)"
   ]
  },
  {
   "cell_type": "markdown",
   "id": "5803f0d4",
   "metadata": {},
   "source": [
    "b) Create a tuple named \"months\" with the names of the first three months of the year. Print the tuple."
   ]
  },
  {
   "cell_type": "code",
   "execution_count": 61,
   "id": "ddf03782",
   "metadata": {},
   "outputs": [
    {
     "name": "stdout",
     "output_type": "stream",
     "text": [
      "('January', 'February', 'March')\n"
     ]
    }
   ],
   "source": [
    "months = (\"January\",\"February\",\"March\")\n",
    "print(months)"
   ]
  },
  {
   "cell_type": "markdown",
   "id": "27ababe7",
   "metadata": {},
   "source": [
    "## Task 4: List Manipulation"
   ]
  },
  {
   "cell_type": "markdown",
   "id": "a8049b2f",
   "metadata": {},
   "source": [
    "a) Given the list of numbers below, write a Python program to calculate the sum and average of these numbers. Print both results.\n",
    "   numbers = [12, 34, 45, 67, 89, 100, 23, 56]\n"
   ]
  },
  {
   "cell_type": "code",
   "execution_count": 62,
   "id": "55f8afe6",
   "metadata": {},
   "outputs": [
    {
     "name": "stdout",
     "output_type": "stream",
     "text": [
      "Sum of numbers: 426\n",
      "Average of numbers: 53.25\n"
     ]
    }
   ],
   "source": [
    "numbers = [12, 34, 45, 67, 89, 100, 23, 56]\n",
    "\n",
    "num_sum = sum(numbers)\n",
    "\n",
    "num_avg = sum(numbers)/len(numbers)\n",
    "\n",
    "print(f\"Sum of numbers: {num_sum}\\nAverage of numbers: {num_avg}\")"
   ]
  },
  {
   "cell_type": "markdown",
   "id": "c30cb539",
   "metadata": {},
   "source": [
    "b) Remove the first and last elements from the \"fruits\" list created earlier. Print the updated list."
   ]
  },
  {
   "cell_type": "code",
   "execution_count": 63,
   "id": "26ce7d3d",
   "metadata": {},
   "outputs": [
    {
     "name": "stdout",
     "output_type": "stream",
     "text": [
      "['banana', 'orange', 'grape']\n"
     ]
    }
   ],
   "source": [
    "fruits\n",
    "\n",
    "#removing first element\n",
    "fruits.pop(0)\n",
    "\n",
    "#removing last element\n",
    "fruits.pop(-1)\n",
    "\n",
    "print(fruits)"
   ]
  },
  {
   "cell_type": "markdown",
   "id": "e2e56170",
   "metadata": {},
   "source": [
    "## Task 5: Dictionary Operations"
   ]
  },
  {
   "cell_type": "markdown",
   "id": "d6be36ae",
   "metadata": {},
   "source": [
    "a) Create a dictionary named \"capitals\" with three key-value pairs: \"USA\" - \"Washington D.C.,\" \"France\" - \"Paris,\" and \"Japan\" - \"Tokyo.\" Print the dictionary."
   ]
  },
  {
   "cell_type": "code",
   "execution_count": 64,
   "id": "302c5863",
   "metadata": {},
   "outputs": [
    {
     "name": "stdout",
     "output_type": "stream",
     "text": [
      "{'USA': 'Washington D.C.', 'France': 'Paris', 'Japan': 'Tokyo'}\n"
     ]
    }
   ],
   "source": [
    "capitals = {\"USA\":\"Washington D.C.\", \"France\": \"Paris\" ,\"Japan\": \"Tokyo\"}\n",
    "print(capitals)"
   ]
  },
  {
   "cell_type": "markdown",
   "id": "d61f7fcf",
   "metadata": {},
   "source": [
    "b) Add a new country and its capital to the \"capitals\" dictionary. The country is \"Germany,\" and the capital is \"Berlin.\" Print the updated dictionary."
   ]
  },
  {
   "cell_type": "code",
   "execution_count": 65,
   "id": "f36bf6c3",
   "metadata": {},
   "outputs": [
    {
     "name": "stdout",
     "output_type": "stream",
     "text": [
      "{'USA': 'Washington D.C.', 'France': 'Paris', 'Japan': 'Tokyo', 'Germany': 'Berlin'}\n"
     ]
    }
   ],
   "source": [
    "capitals[\"Germany\"] = \"Berlin\"\n",
    "print(capitals)"
   ]
  },
  {
   "cell_type": "markdown",
   "id": "cc62d3c9",
   "metadata": {},
   "source": [
    "c) Check if \"France\" exists in the \"capitals\" dictionary. If it does, print \"France is in the dictionary,\" otherwise, print \"France is not in the dictionary.\" (at the end of the lab notebook for session 1, I have added an example of how to use “in” in python)."
   ]
  },
  {
   "cell_type": "code",
   "execution_count": 66,
   "id": "4c14892a",
   "metadata": {},
   "outputs": [
    {
     "name": "stdout",
     "output_type": "stream",
     "text": [
      "France is in the dictionary\n"
     ]
    }
   ],
   "source": [
    "if \"France\" in capitals:\n",
    "    print(\"France is in the dictionary\")\n",
    "else:\n",
    "    print(\"France is not in the dictionary\")"
   ]
  },
  {
   "cell_type": "markdown",
   "id": "1397c04a",
   "metadata": {},
   "source": [
    "## Task 6: Comparison Operators, Logical Operators and If/Else:"
   ]
  },
  {
   "cell_type": "markdown",
   "id": "c287b0c4",
   "metadata": {},
   "source": [
    "a) Create a variable called number that takes user input (we studied the input() function). Next, write a block of code that checks if the number is even or odd (hint: modulo operator. Refer to lab notebook 1). \n",
    "Your output should print “The number is even”, or the “The number is odd”. \n"
   ]
  },
  {
   "cell_type": "code",
   "execution_count": 67,
   "id": "6ff2e303",
   "metadata": {},
   "outputs": [
    {
     "name": "stdout",
     "output_type": "stream",
     "text": [
      "Enter a number: 35\n",
      "The number is odd\n"
     ]
    }
   ],
   "source": [
    "number = int(input(\"Enter a number: \"))\n",
    "\n",
    "if number % 2 == 0:\n",
    "    print(\"The number is even\")\n",
    "else:\n",
    "    print(\"The number is odd\")"
   ]
  },
  {
   "cell_type": "markdown",
   "id": "67b4c6ce",
   "metadata": {},
   "source": [
    "b) Create two variables called age and GPA. Give them values of your choice. Next, write a block of code to check if a student with this age and GPA is eligible for admission. The following are the conditions:\n",
    "   - The student must be at least 18 years old.\n",
    "   - The student's GPA must be 3.0 or higher on a scale of 4.0.\n",
    "   Your output should print “Eligible for admission” or “Not eligible for admission”.\n"
   ]
  },
  {
   "cell_type": "code",
   "execution_count": 68,
   "id": "2eea3a55",
   "metadata": {},
   "outputs": [
    {
     "name": "stdout",
     "output_type": "stream",
     "text": [
      "Eligible for admission\n"
     ]
    }
   ],
   "source": [
    "age = 22\n",
    "GPA = 3.6\n",
    "\n",
    "if age >= 18 and GPA >= 3.0:\n",
    "    print(\"Eligible for admission\")\n",
    "else:\n",
    "    print(\"Not Eligible for admission\")"
   ]
  },
  {
   "cell_type": "markdown",
   "id": "5057fe6f",
   "metadata": {},
   "source": [
    "## Task 7: Advanced Data Types"
   ]
  },
  {
   "cell_type": "markdown",
   "id": "d57e1cec",
   "metadata": {},
   "source": [
    "a) Create a set named \"fruits_set\" containing the following fruits: \"apple,\" \"banana,\" \"orange,\" \"grape,\" and \"kiwi.\" Print the set."
   ]
  },
  {
   "cell_type": "code",
   "execution_count": 69,
   "id": "457e5a69",
   "metadata": {},
   "outputs": [
    {
     "name": "stdout",
     "output_type": "stream",
     "text": [
      "{'grape', 'kiwi', 'apple', 'orange', 'banana'}\n"
     ]
    }
   ],
   "source": [
    "fruits_set = {\"apple\", \"banana\" ,\"orange\" ,\"grape\" , \"kiwi\"}\n",
    "print(fruits_set)"
   ]
  },
  {
   "cell_type": "markdown",
   "id": "0acf533c",
   "metadata": {},
   "source": [
    "b) Given two sets:\n",
    "   set1 = {1, 2, 3, 4, 5}\n",
    "   set2 = {3, 4, 5, 6, 7}\n",
    "   Write Python code to perform the following operations and print the results:\n",
    "   - Union of set1 and set2.\n",
    "   - Intersection of set1 and set2.\n",
    "   - Difference between set1 and set2.\n",
    "   - Check if set1 is a subset of set2.\n",
    "\n"
   ]
  },
  {
   "cell_type": "code",
   "execution_count": 70,
   "id": "ae01b9ca",
   "metadata": {},
   "outputs": [
    {
     "name": "stdout",
     "output_type": "stream",
     "text": [
      "Union: {1, 2, 3, 4, 5, 6, 7}\n",
      "Intersection: {3, 4, 5}\n",
      "Difference: {1, 2}\n",
      "set1 is a subset of set2: False\n"
     ]
    }
   ],
   "source": [
    "set1 = {1, 2, 3, 4, 5}\n",
    "set2 = {3, 4, 5, 6, 7} \n",
    "\n",
    "#print(f\"Union: {set1.union(set2)}\")\n",
    "print(f\"Union: {set1 |set2}\")\n",
    "\n",
    "#print(f\"Intersection: {set1.intersection(set2)}\")\n",
    "print(f\"Intersection: {set1 & set2}\")\n",
    "\n",
    "#print(f\"Difference: {set1.difference(set2)}\")\n",
    "print(f\"Difference: {set1 - set2}\")\n",
    "\n",
    "print(f\"set1 is a subset of set2: {set1.issubset(set2)}\")"
   ]
  },
  {
   "cell_type": "markdown",
   "id": "b01ca543",
   "metadata": {},
   "source": [
    "## Task 8: Strings Manipulation"
   ]
  },
  {
   "cell_type": "markdown",
   "id": "b03e2c69",
   "metadata": {},
   "source": [
    "a) Create a string variable containing the following sentence:\n",
    "   \"Python programming is fun and powerful!\"\n",
    "   Write Python code to do the following and print the results:\n",
    "   - Find the length of the string.\n",
    "   - Convert the string to uppercase.\n",
    "   - Replace \"fun\" with \"exciting.\"\n",
    "   - Check if the string contains the word \"Python.\"\n",
    "   - Split the string into a list of words.\n"
   ]
  },
  {
   "cell_type": "code",
   "execution_count": 71,
   "id": "687f0557",
   "metadata": {},
   "outputs": [
    {
     "name": "stdout",
     "output_type": "stream",
     "text": [
      "Length of string is: 39\n",
      "Python programming is exciting and powerful!\n",
      "True\n",
      "['Python', 'programming', 'is', 'exciting', 'and', 'powerful!']\n"
     ]
    }
   ],
   "source": [
    "str = \"Python programming is fun and powerful!\"\n",
    "\n",
    "print(f\"Length of string is: {len(str)}\")\n",
    "\n",
    "str = str.replace(\"fun\",\"exciting\")\n",
    "print(str)\n",
    "\n",
    "print(\"Python\" in str)\n",
    "\n",
    "print(str.split(\" \"))"
   ]
  },
  {
   "cell_type": "code",
   "execution_count": null,
   "id": "4d006e0b",
   "metadata": {},
   "outputs": [],
   "source": []
  }
 ],
 "metadata": {
  "kernelspec": {
   "display_name": "Python 3 (ipykernel)",
   "language": "python",
   "name": "python3"
  },
  "language_info": {
   "codemirror_mode": {
    "name": "ipython",
    "version": 3
   },
   "file_extension": ".py",
   "mimetype": "text/x-python",
   "name": "python",
   "nbconvert_exporter": "python",
   "pygments_lexer": "ipython3",
   "version": "3.9.13"
  }
 },
 "nbformat": 4,
 "nbformat_minor": 5
}
