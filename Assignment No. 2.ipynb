{
 "cells": [
  {
   "cell_type": "markdown",
   "id": "a61637f3",
   "metadata": {},
   "source": [
    "# Assignment No. 2"
   ]
  },
  {
   "cell_type": "markdown",
   "id": "a9e7c280",
   "metadata": {},
   "source": [
    "## Task 1:"
   ]
  },
  {
   "cell_type": "markdown",
   "id": "f264e2f2",
   "metadata": {},
   "source": [
    "\n",
    "You are creating a Python program to simulate a simple guessing game. The game will have the following rules:\n",
    "1.\tThe program will generate a random number between 1 and 50 and store it in a variable called \"secret_number.\" For this, you will need to import randint() from the random library in python. Run the following line of code in a cell:\n",
    "from random import randint\n",
    "2.\tThe user will be given 5 attempts to guess the \"secret_number.\"\n",
    "3.\tThe program will use a while loop to repeatedly ask the user for their guess and provide feedback based on their input. (Remember that input() returns a string even if the user enters a number.) \n",
    "4.\tFirst, handle the case where the user enters a non-numeric input. For this, you will need to add a try/except block. Google the syntax and under the try block, convert the guess into an int. If the entry is non-numeric, this conversion should fail and python will go to the except block. Under the except block, handle this error by printing \"Invalid input! Please enter a valid number” and utilize the continue statement to allow the user to try again without reducing their remaining attempts.\n",
    "5.\tIf the user guesses the correct number, print \"Congratulations! You guessed the secret number [secret_number] correctly!\" and break out of the loop.\n",
    "6.\tIf the user's guess is too high, print \"Try again! Your guess is too high. You have [attempts_left] attempts left.\" where \"attempts_left\" is the number of remaining attempts.\n",
    "7.\tIf the user's guess is too low, print \"Try again! Your guess is too low. You have [attempts_left] attempts left.\"\n",
    "8.\tIf the user runs out of attempts, print \"Game Over! The secret number was [secret_number]. Better luck next time!\" and break out of the loop.\n"
   ]
  },
  {
   "cell_type": "code",
   "execution_count": 4,
   "id": "f01f73d2",
   "metadata": {},
   "outputs": [],
   "source": [
    "from random import randint"
   ]
  },
  {
   "cell_type": "code",
   "execution_count": 33,
   "id": "fee5c163",
   "metadata": {},
   "outputs": [
    {
     "name": "stdout",
     "output_type": "stream",
     "text": [
      "41\n",
      "Guess the secret number between (1 and 50): 24\n",
      "Try again! Your guess is too low. You have 4 attempts left\n",
      "Guess the secret number between (1 and 50): abg\n",
      "Invalid input! Please enter a valid number\n",
      "Guess the secret number between (1 and 50): 48\n",
      "Try again! Your guess is too high. You have 3 attempts left\n",
      "Guess the secret number between (1 and 50): 44\n",
      "Try again! Your guess is too high. You have 2 attempts left\n",
      "Guess the secret number between (1 and 50): 40\n",
      "Try again! Your guess is too low. You have 1 attempts left\n",
      "Guess the secret number between (1 and 50): 41\n",
      "Congratulations! You guessed the secret number 41 correctly!\n"
     ]
    }
   ],
   "source": [
    "secret_number = randint(1,50)\n",
    "attempts = 5\n",
    "print(secret_number)\n",
    "\n",
    "while attempts > 0:\n",
    "    user_input = input(\"Guess the secret number between (1 and 50): \")\n",
    "    try:\n",
    "        user_input.isdigit()\n",
    "        user_input = int(user_input)\n",
    "    except:\n",
    "        print(\"Invalid input! Please enter a valid number\")\n",
    "        continue\n",
    "    attempts -= 1\n",
    "    if user_input == secret_number:\n",
    "        print(f\"Congratulations! You guessed the secret number {secret_number} correctly!\")\n",
    "        break\n",
    "    elif user_input > secret_number and attempts > 0:\n",
    "        print(f\"Try again! Your guess is too high. You have {attempts} attempts left\")\n",
    "    elif user_input < secret_number and attempts > 0:\n",
    "        print(f\"Try again! Your guess is too low. You have {attempts} attempts left\")\n",
    "\n",
    "else:\n",
    "    print(f\"Game Over! The secret number was {secret_number}. Better luck next time!\")\n",
    "        \n"
   ]
  },
  {
   "cell_type": "markdown",
   "id": "1c4c6089",
   "metadata": {},
   "source": [
    "## Task 2"
   ]
  },
  {
   "cell_type": "markdown",
   "id": "5cc4bdee",
   "metadata": {},
   "source": [
    "a)\tWrite a function called num_vowels that takes in a string as an argument, and returns the number of vowels in that string. Print out the result for the string “Learning Python is fun and engaging.”"
   ]
  },
  {
   "cell_type": "code",
   "execution_count": 36,
   "id": "0bc38742",
   "metadata": {},
   "outputs": [],
   "source": [
    "def num_vowels(string):\n",
    "    count_vowels = 0\n",
    "    for ltr in string:\n",
    "        if ltr in 'aeiou':\n",
    "            count_vowels += 1\n",
    "    return count_vowels\n",
    "        "
   ]
  },
  {
   "cell_type": "code",
   "execution_count": 48,
   "id": "50db9d48",
   "metadata": {},
   "outputs": [
    {
     "name": "stdout",
     "output_type": "stream",
     "text": [
      "10\n"
     ]
    }
   ],
   "source": [
    "string = \"Learning Python is fun and engaging.\"\n",
    "print(num_vowels(string))"
   ]
  },
  {
   "cell_type": "markdown",
   "id": "bff9c24c",
   "metadata": {},
   "source": [
    "b)\tCreate a function called hours_to_min that converts hours into minutes. The function should take the number of hours as input and return the equivalent number of minutes. Test the function with 2.5 hours and print the result."
   ]
  },
  {
   "cell_type": "code",
   "execution_count": 44,
   "id": "678687ac",
   "metadata": {},
   "outputs": [],
   "source": [
    "def hours_to_min(hours):\n",
    "    # 60 minutes in an hour\n",
    "    minutes = int(hours * 60)\n",
    "    return minutes"
   ]
  },
  {
   "cell_type": "code",
   "execution_count": 49,
   "id": "5e77b078",
   "metadata": {},
   "outputs": [
    {
     "name": "stdout",
     "output_type": "stream",
     "text": [
      "150\n"
     ]
    }
   ],
   "source": [
    "hours = 2.5\n",
    "print(hours_to_min(hours))"
   ]
  },
  {
   "cell_type": "markdown",
   "id": "e7a240fb",
   "metadata": {},
   "source": [
    "c)\tWrite a python function that takes in a number as an argument, and prints out the table of that number up to 12 times that number. You may name this whatever you wish. \n",
    "Sample output:\n",
    "\n",
    "1 x 8 = 8\n",
    "\n",
    "2 x 8 = 16\n",
    "\n",
    "3 x 8 = 24\n",
    "\n",
    "4 x 8 = 32\n",
    "\n",
    "5 x 8 = 40\n",
    "\n",
    "6 x 8 = 48\n",
    "\n",
    "7 x 8 = 56\n",
    "\n",
    "8 x 8 = 64\n",
    "\n",
    "9 x 8 = 72\n",
    "\n",
    "10 x 8 = 80\n",
    "\n",
    "11 x 8 = 88\n",
    "\n",
    "12 x 8 = 96\n",
    "\n"
   ]
  },
  {
   "cell_type": "code",
   "execution_count": 52,
   "id": "bde2e296",
   "metadata": {},
   "outputs": [],
   "source": [
    "def tables(number):\n",
    "    for i in range(1,13):\n",
    "        print(f\"{i} x {number} = {i*number}\\n\")"
   ]
  },
  {
   "cell_type": "code",
   "execution_count": 53,
   "id": "67dba66f",
   "metadata": {},
   "outputs": [
    {
     "name": "stdout",
     "output_type": "stream",
     "text": [
      "1 x 8 = 8\n",
      "\n",
      "2 x 8 = 16\n",
      "\n",
      "3 x 8 = 24\n",
      "\n",
      "4 x 8 = 32\n",
      "\n",
      "5 x 8 = 40\n",
      "\n",
      "6 x 8 = 48\n",
      "\n",
      "7 x 8 = 56\n",
      "\n",
      "8 x 8 = 64\n",
      "\n",
      "9 x 8 = 72\n",
      "\n",
      "10 x 8 = 80\n",
      "\n",
      "11 x 8 = 88\n",
      "\n",
      "12 x 8 = 96\n",
      "\n"
     ]
    }
   ],
   "source": [
    "number = 8\n",
    "tables(number)"
   ]
  },
  {
   "cell_type": "markdown",
   "id": "0e532b5a",
   "metadata": {},
   "source": [
    "d)\tIn your previous assignment, you wrote code that checks if a student is eligible for admission to a university. Turn that code into a function called eligibility. The function should take two arguments: the student's age and their previous GPA. The eligibility criteria are as follows:\n",
    "- The student must be at least 18 years old.\n",
    "- The student's previous GPA must be 3.0 or higher on a scale of 4.0.\n",
    "The function should return True if the student meets both criteria, otherwise, return False. Test the function with different ages and GPAs with and without keywords for example:\n",
    "eligibility(30, 3.2) [will depend on which order you provided the positional arguments in the definition]\n",
    "eligibility(GPA = 2.9, age = 40)"
   ]
  },
  {
   "cell_type": "code",
   "execution_count": 54,
   "id": "922f0011",
   "metadata": {},
   "outputs": [],
   "source": [
    "def eligibility(age,GPA):\n",
    "    if age>=18 and GPA>=3.0:\n",
    "        return True\n",
    "    return False\n",
    "    "
   ]
  },
  {
   "cell_type": "code",
   "execution_count": 55,
   "id": "3d87be66",
   "metadata": {},
   "outputs": [
    {
     "data": {
      "text/plain": [
       "True"
      ]
     },
     "execution_count": 55,
     "metadata": {},
     "output_type": "execute_result"
    }
   ],
   "source": [
    "eligibility(30,3.2)"
   ]
  },
  {
   "cell_type": "code",
   "execution_count": 56,
   "id": "017d5898",
   "metadata": {},
   "outputs": [
    {
     "data": {
      "text/plain": [
       "False"
      ]
     },
     "execution_count": 56,
     "metadata": {},
     "output_type": "execute_result"
    }
   ],
   "source": [
    "eligibility(GPA = 2.9, age = 40)"
   ]
  },
  {
   "cell_type": "code",
   "execution_count": null,
   "id": "bde1ba2f",
   "metadata": {},
   "outputs": [],
   "source": []
  }
 ],
 "metadata": {
  "kernelspec": {
   "display_name": "Python 3 (ipykernel)",
   "language": "python",
   "name": "python3"
  },
  "language_info": {
   "codemirror_mode": {
    "name": "ipython",
    "version": 3
   },
   "file_extension": ".py",
   "mimetype": "text/x-python",
   "name": "python",
   "nbconvert_exporter": "python",
   "pygments_lexer": "ipython3",
   "version": "3.9.13"
  }
 },
 "nbformat": 4,
 "nbformat_minor": 5
}
